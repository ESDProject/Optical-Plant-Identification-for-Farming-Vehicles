{
  "nbformat": 4,
  "nbformat_minor": 0,
  "metadata": {
    "colab": {
      "name": "YOLOv3_to_TFLite_Conversion.ipynb",
      "provenance": [],
      "collapsed_sections": []
    },
    "kernelspec": {
      "name": "python3",
      "display_name": "Python 3"
    }
  },
  "cells": [
    {
      "cell_type": "markdown",
      "metadata": {
        "id": "jpAVPuboaIhd"
      },
      "source": [
        "**Step 1: Setup TensorFlow 1.x**"
      ]
    },
    {
      "cell_type": "code",
      "metadata": {
        "id": "XB3UqS5baHy_"
      },
      "source": [
        "%tensorflow_version 1.x"
      ],
      "execution_count": null,
      "outputs": []
    },
    {
      "cell_type": "code",
      "metadata": {
        "id": "NQ3qDgLGQhFN"
      },
      "source": [
        "import tensorflow as tf\n",
        "print(tf.__version__)"
      ],
      "execution_count": null,
      "outputs": []
    },
    {
      "cell_type": "markdown",
      "metadata": {
        "id": "qzO1xAfrZ-Wj"
      },
      "source": [
        "**Step 2: Clone the tensorflow-yolo-v3 repository**"
      ]
    },
    {
      "cell_type": "code",
      "metadata": {
        "id": "cotKV7UhZpBI"
      },
      "source": [
        "# Clone\r\n",
        "!git clone https://github.com/mystic123/tensorflow-yolo-v3"
      ],
      "execution_count": null,
      "outputs": []
    },
    {
      "cell_type": "markdown",
      "metadata": {
        "id": "LBGY4wNjdZpV"
      },
      "source": [
        "**Step 3a: Mount Google Drive**"
      ]
    },
    {
      "cell_type": "code",
      "metadata": {
        "id": "w8G-Y7Y2dgzE"
      },
      "source": [
        "from google.colab import drive\r\n",
        "drive.mount('/content/gdrive')\r\n",
        "!ln -s /content/gdrive/My\\ Drive/ /mydrive\r\n",
        "!ls /mydrive"
      ],
      "execution_count": null,
      "outputs": []
    },
    {
      "cell_type": "markdown",
      "metadata": {
        "id": "08Tx_JntayAM"
      },
      "source": [
        "**Step 3b: Navigate to tensorflow-yolo-v3 repository**"
      ]
    },
    {
      "cell_type": "code",
      "metadata": {
        "id": "UwJc6V0Kas2a"
      },
      "source": [
        "%cd tensorflow-yolo-v3/"
      ],
      "execution_count": null,
      "outputs": []
    },
    {
      "cell_type": "markdown",
      "metadata": {
        "id": "m_pVLb1Fa7j_"
      },
      "source": [
        "**Step 4: Download .weights and .classes files**"
      ]
    },
    {
      "cell_type": "code",
      "metadata": {
        "id": "0sI-m0JsLtNJ",
        "colab": {
          "base_uri": "https://localhost:8080/"
        },
        "outputId": "2689f6a5-74e1-409f-98ff-76d4c91ee1b5"
      },
      "source": [
        "!gdown --id <your_classes.txt_file_id>  #classes.txt\r\n",
        "!gdown --id <your_yolov3_training_last.weights_file_id>  #yolov3_training_last.weights"
      ],
      "execution_count": 1,
      "outputs": [
        {
          "output_type": "stream",
          "text": [
            "Permission denied: https://drive.google.com/uc?id=1lolBtZ7gX0TIAwbJYBvNenfXRVxVJ1UB\n",
            "Maybe you need to change permission over 'Anyone with the link'?\n",
            "Permission denied: https://drive.google.com/uc?id=18LYRO404RzBFeUh0KytNzD02L0WJcX3C\n",
            "Maybe you need to change permission over 'Anyone with the link'?\n"
          ],
          "name": "stdout"
        }
      ]
    },
    {
      "cell_type": "markdown",
      "metadata": {
        "id": "uZ2FhhLNa65R"
      },
      "source": [
        "**Step 5: Convert YOLOv3 .weights to .pb**"
      ]
    },
    {
      "cell_type": "code",
      "metadata": {
        "id": "ejvLzFgCauNQ"
      },
      "source": [
        "!python convert_weights_pb.py --class_names \"classes.names\" --weights_file \"yolov3_training_last.weights\" --data_format \"NHWC\" "
      ],
      "execution_count": null,
      "outputs": []
    },
    {
      "cell_type": "markdown",
      "metadata": {
        "id": "zaqOLAKCRzXR"
      },
      "source": [
        "**Step 6a: Restart runtime**\r\n",
        "\r\n",
        "Click on Runtime on the menu bar and select **Restart runtime.**"
      ]
    },
    {
      "cell_type": "markdown",
      "metadata": {
        "id": "uzIegyxtG036"
      },
      "source": [
        "**Step 6b: Setup TensorFlow 2.x**"
      ]
    },
    {
      "cell_type": "code",
      "metadata": {
        "id": "fqPnFp40G4LK"
      },
      "source": [
        "%tensorflow_version 2.x"
      ],
      "execution_count": 1,
      "outputs": []
    },
    {
      "cell_type": "code",
      "metadata": {
        "id": "ZxxCUjPSG8MK",
        "colab": {
          "base_uri": "https://localhost:8080/"
        },
        "outputId": "976af35d-abc0-4d26-dbec-7a6dcbed8d78"
      },
      "source": [
        "import tensorflow as tf\r\n",
        "print(tf.__version__)"
      ],
      "execution_count": 2,
      "outputs": [
        {
          "output_type": "stream",
          "text": [
            "2.4.0\n"
          ],
          "name": "stdout"
        }
      ]
    },
    {
      "cell_type": "code",
      "metadata": {
        "id": "jyVdQnElHJ9X"
      },
      "source": [
        "import tempfile\r\n",
        "import os\r\n",
        "import glob"
      ],
      "execution_count": 3,
      "outputs": []
    },
    {
      "cell_type": "markdown",
      "metadata": {
        "id": "GOgfmKxQHuKz"
      },
      "source": [
        "**Step 7a: Navigate to tensorflow-yolo-v3 repository**"
      ]
    },
    {
      "cell_type": "code",
      "metadata": {
        "id": "RhHA4a3ZH-I3"
      },
      "source": [
        "%cd tensorflow-yolo-v3/"
      ],
      "execution_count": null,
      "outputs": []
    },
    {
      "cell_type": "markdown",
      "metadata": {
        "id": "NEXaieEgFMrz"
      },
      "source": [
        "**Step 7b: Check input and output nodes of neural network**\r\n"
      ]
    },
    {
      "cell_type": "code",
      "metadata": {
        "id": "w5CtnjgUFM6L"
      },
      "source": [
        "import tensorflow.compat.v1 as tf\r\n",
        "gf = tf.GraphDef()   \r\n",
        "m_file = open('frozen_darknet_yolov3_model.pb','rb')\r\n",
        "gf.ParseFromString(m_file.read())\r\n",
        "\r\n",
        "with open('somefile.txt', 'a') as the_file:\r\n",
        "     for n in gf.node:\r\n",
        "         the_file.write(n.name+'\\n')\r\n",
        "\r\n",
        "file = open('somefile.txt','r')\r\n",
        "data = file.readlines()\r\n",
        "output = data[len(data)-1]\r\n",
        "print(\"Output array = \", output)\r\n",
        "\r\n",
        "file.seek ( 0 )\r\n",
        "input=file.readline()\r\n",
        "print(\"Input array = \", input)"
      ],
      "execution_count": null,
      "outputs": []
    },
    {
      "cell_type": "markdown",
      "metadata": {
        "id": "2WrlQvOulsMR"
      },
      "source": [
        "**Step 8: Convert frozen_darknet_yolov3_model.pb to .tflite**"
      ]
    },
    {
      "cell_type": "code",
      "metadata": {
        "id": "dU7AODz3SqSv"
      },
      "source": [
        "# Reference: https://github.com/sayakpaul/Adventures-in-TensorFlow-Lite/blob/master/DeepLabV3/DeepLab_TFLite_COCO.ipynb\n",
        "# Load the TensorFlow model\n",
        "# The preprocessing and the post-processing steps should not be included in the TF Lite model graph \n",
        "# because some operations (ArgMax) might not support the delegates. \n",
        "# Insepct the graph using Netron https://lutzroeder.github.io/netron/\n",
        "converter = tf.compat.v1.lite.TFLiteConverter.from_frozen_graph(\n",
        "    graph_def_file='/content/tensorflow-yolo-v3/frozen_darknet_yolov3_model.pb', \n",
        "    input_arrays = ['inputs'],   # Here, 'inputs' is the value of input array from Step 7b\n",
        "    output_arrays = ['output_boxes'], # Here, 'output_boxes' is the value of output array from Step 7b\n",
        "    input_shapes={'inputs': [1, 416, 416, 3]} # Here, 'inputs' is the value of input array from Step 7b\n",
        ")\n",
        "\n",
        "# Optional: Perform the simplest optimization known as post-training dynamic range quantization.\n",
        "# https://www.tensorflow.org/lite/performance/post_training_quantization#dynamic_range_quantization\n",
        "# You can refer to the same document for other types of optimizations.\n",
        "converter.optimizations = [tf.lite.Optimize.DEFAULT]\n",
        "\n",
        "# Convert to TFLite Model\n",
        "tflite_model = converter.convert()\n",
        "\n",
        "_, dynamic_tflite_path = tempfile.mkstemp('.tflite')\n",
        "tflite_model_size = open(dynamic_tflite_path, 'wb').write(tflite_model)\n",
        "tf_model_size = os.path.getsize('/content/tensorflow-yolo-v3/frozen_darknet_yolov3_model.pb')\n",
        "print('TensorFlow Model is  {} bytes'.format(tf_model_size))\n",
        "print('TFLite Model is      {} bytes'.format(tflite_model_size))\n",
        "print('Post training dynamic range quantization saves {} bytes'.format(tf_model_size-tflite_model_size))"
      ],
      "execution_count": null,
      "outputs": []
    },
    {
      "cell_type": "code",
      "metadata": {
        "id": "AjQjJzhtUldF"
      },
      "source": [
        "!ls -lh {dynamic_tflite_path}"
      ],
      "execution_count": null,
      "outputs": []
    },
    {
      "cell_type": "markdown",
      "metadata": {
        "id": "66xGlBxuKkUW"
      },
      "source": [
        "**Step 9: Move the .tflite model into your Google Drive folder**"
      ]
    },
    {
      "cell_type": "code",
      "metadata": {
        "id": "YGm8KJnWfT9A"
      },
      "source": [
        "tflite_file = ''\r\n",
        "tflite_file = tflite_file.join(glob.glob(\"/tmp/*.tflite\")) # Find the temp file of type .tflite\r\n",
        "tflite_file = tflite_file[5:len(tflite_file)]  # Extract .tflite file name.\r\n",
        "\r\n",
        "%cd ..\r\n",
        "%cd ../tmp\r\n",
        "os.rename(tflite_file, 'detect.tflite') # Rename the temp .tflite to detect.tflite\r\n",
        "%mv detect.tflite ../content/gdrive/MyDrive/YOLOv3_TFLite/  # Move detect.tflite to Goolge Drive"
      ],
      "execution_count": null,
      "outputs": []
    },
    {
      "cell_type": "markdown",
      "metadata": {
        "id": "euYv3Mbqn83u"
      },
      "source": [
        "**Step 10: Model Inference**"
      ]
    },
    {
      "cell_type": "code",
      "metadata": {
        "id": "-627lZJqmG_w"
      },
      "source": [
        "interpreter = tf.lite.Interpreter(model_path='../content/gdrive/MyDrive/YOLOv3_TFLite/detect.tflite')\r\n",
        "\r\n",
        "input_details = interpreter.get_input_details()\r\n",
        "output_details = interpreter.get_output_details()"
      ],
      "execution_count": 13,
      "outputs": []
    },
    {
      "cell_type": "code",
      "metadata": {
        "id": "2cMM4VQCVEIT"
      },
      "source": [
        "input_details"
      ],
      "execution_count": null,
      "outputs": []
    },
    {
      "cell_type": "code",
      "metadata": {
        "id": "eX6IPE4GVGiO"
      },
      "source": [
        "output_details"
      ],
      "execution_count": null,
      "outputs": []
    },
    {
      "cell_type": "markdown",
      "metadata": {
        "id": "3grKbBqMoRjA"
      },
      "source": [
        "**Step 11: Navigate to Google Drive**"
      ]
    },
    {
      "cell_type": "code",
      "metadata": {
        "id": "7moYt8mFh8-9"
      },
      "source": [
        "%cd ../content/gdrive/MyDrive/YOLOv3_TFLite/"
      ],
      "execution_count": null,
      "outputs": []
    },
    {
      "cell_type": "markdown",
      "metadata": {
        "id": "DGyM3zmToXPw"
      },
      "source": [
        "**Step 12: Test the model**"
      ]
    },
    {
      "cell_type": "code",
      "metadata": {
        "id": "E_Uw2xgih9tp"
      },
      "source": [
        "!python test_tflite.py"
      ],
      "execution_count": null,
      "outputs": []
    }
  ]
}